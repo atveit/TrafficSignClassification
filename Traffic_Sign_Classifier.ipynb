{
 "cells": [
  {
   "cell_type": "markdown",
   "metadata": {},
   "source": [
    "# Self-Driving Car Engineer Nanodegree\n",
    "\n",
    "## Deep Learning\n",
    "\n",
    "## Project: Build a Traffic Sign Recognition Classifier\n",
    "\n",
    "In this notebook, a template is provided for you to implement your functionality in stages, which is required to successfully complete this project. If additional code is required that cannot be included in the notebook, be sure that the Python code is successfully imported and included in your submission if necessary. \n",
    "\n",
    "> **Note**: Once you have completed all of the code implementations, you need to finalize your work by exporting the iPython Notebook as an HTML document. Before exporting the notebook to html, all of the code cells need to have been run so that reviewers can see the final implementation and output. You can then export the notebook by using the menu above and navigating to  \\n\",\n",
    "    \"**File -> Download as -> HTML (.html)**. Include the finished document along with this notebook as your submission. \n",
    "\n",
    "In addition to implementing code, there is a writeup to complete. The writeup should be completed in a separate file, which can be either a markdown file or a pdf document. There is a [write up template](https://github.com/udacity/CarND-Traffic-Sign-Classifier-Project/blob/master/writeup_template.md) that can be used to guide the writing process. Completing the code template and writeup template will cover all of the [rubric points](https://review.udacity.com/#!/rubrics/481/view) for this project.\n",
    "\n",
    "The [rubric](https://review.udacity.com/#!/rubrics/481/view) contains \"Stand Out Suggestions\" for enhancing the project beyond the minimum requirements. The stand out suggestions are optional. If you decide to pursue the \"stand out suggestions\", you can include the code in this Ipython notebook and also discuss the results in the writeup file.\n",
    "\n",
    "\n",
    ">**Note:** Code and Markdown cells can be executed using the **Shift + Enter** keyboard shortcut. In addition, Markdown cells can be edited by typically double-clicking the cell to enter edit mode."
   ]
  },
  {
   "cell_type": "markdown",
   "metadata": {},
   "source": [
    "---\n",
    "## Step 0: Load The Data"
   ]
  },
  {
   "cell_type": "code",
   "execution_count": 1,
   "metadata": {
    "collapsed": false
   },
   "outputs": [],
   "source": [
    "# Load pickled data\n",
    "import pickle\n",
    "\n",
    "# TODO: Fill this in based on where you saved the training and testing data\n",
    "\n",
    "training_file = \"data/train.p\"\n",
    "validation_file= \"data/valid.p\"\n",
    "testing_file = \"data/test.p\"\n",
    "\n",
    "with open(training_file, mode='rb') as f:\n",
    "    train = pickle.load(f)\n",
    "with open(validation_file, mode='rb') as f:\n",
    "    valid = pickle.load(f)\n",
    "with open(testing_file, mode='rb') as f:\n",
    "    test = pickle.load(f)\n",
    "    \n",
    "X_train, y_train = train['features'], train['labels']\n",
    "X_valid, y_valid = valid['features'], valid['labels']\n",
    "X_test, y_test = test['features'], test['labels']"
   ]
  },
  {
   "cell_type": "code",
   "execution_count": 2,
   "metadata": {
    "collapsed": false
   },
   "outputs": [
    {
     "name": "stdout",
     "output_type": "stream",
     "text": [
      "<class 'numpy.ndarray'> <class 'numpy.ndarray'>\n",
      "TRAIN: X,y =  (34799, 32, 32, 3) (34799,)\n",
      "VALID: X,y =  (4410, 32, 32, 3) (4410,)\n",
      "TEST: X,y =  (12630, 32, 32, 3) (12630,)\n"
     ]
    }
   ],
   "source": [
    "# look a bit at train data \n",
    "import matplotlib.pyplot as plt\n",
    "import numpy as np\n",
    "\n",
    "print(type(X_train), type(y_train))\n",
    "print(\"TRAIN: X,y = \", X_train.shape, y_train.shape)\n",
    "print(\"VALID: X,y = \", X_valid.shape, y_valid.shape)\n",
    "print(\"TEST: X,y = \", X_test.shape, y_test.shape)\n",
    "\n",
    "# check that X and y are of same size for train, validation and test data\n",
    "assert X_train.shape[0] == y_train.shape[0]\n",
    "assert X_valid.shape[0] == y_valid.shape[0] \n",
    "assert X_test.shape[0] == y_test.shape[0]\n",
    "\n",
    "# looks like default validation set is to small, so chopping off extra data from X_train and y_train\n",
    "# to get more validation data?"
   ]
  },
  {
   "cell_type": "code",
   "execution_count": 3,
   "metadata": {
    "collapsed": false
   },
   "outputs": [
    {
     "name": "stdout",
     "output_type": "stream",
     "text": [
      "TRAIN: X,y =  (27785, 32, 32, 3) (27785,)\n",
      "VALID: X,y =  (6947, 32, 32, 3) (6947,)\n",
      "TEST: X,y =  (17107, 32, 32, 3) (17107,)\n"
     ]
    }
   ],
   "source": [
    "from sklearn.model_selection import train_test_split \n",
    "from sklearn.utils import shuffle\n",
    "\n",
    "# combine validation and training set, shuffle it and create new split\n",
    "X_train = np.concatenate((X_train, X_valid, X_test), axis=0)\n",
    "y_train = np.concatenate((y_train, y_valid, y_test), axis=0)\n",
    "\n",
    "# shuffle\n",
    "X_train, y_train = shuffle(X_train, y_train)\n",
    "X_train, X_test, y_train, y_test = train_test_split(X_train, y_train, test_size=0.33, random_state=42)\n",
    "\n",
    "# shuffle and split again for training set and valid set\n",
    "X_train, y_train = shuffle(X_train, y_train)\n",
    "X_train, X_valid, y_train, y_valid = train_test_split(X_train, y_train, test_size=0.20, random_state=45)\n",
    "\n",
    "\n",
    "print(\"TRAIN: X,y = \", X_train.shape, y_train.shape)\n",
    "print(\"VALID: X,y = \", X_valid.shape, y_valid.shape)\n",
    "print(\"TEST: X,y = \", X_test.shape, y_test.shape)\n"
   ]
  },
  {
   "cell_type": "markdown",
   "metadata": {},
   "source": [
    "---\n",
    "\n",
    "## Step 1: Dataset Summary & Exploration\n",
    "\n",
    "The pickled data is a dictionary with 4 key/value pairs:\n",
    "\n",
    "- `'features'` is a 4D array containing raw pixel data of the traffic sign images, (num examples, width, height, channels).\n",
    "- `'labels'` is a 1D array containing the label/class id of the traffic sign. The file `signnames.csv` contains id -> name mappings for each id.\n",
    "- `'sizes'` is a list containing tuples, (width, height) representing the original width and height the image.\n",
    "- `'coords'` is a list containing tuples, (x1, y1, x2, y2) representing coordinates of a bounding box around the sign in the image. **THESE COORDINATES ASSUME THE ORIGINAL IMAGE. THE PICKLED DATA CONTAINS RESIZED VERSIONS (32 by 32) OF THESE IMAGES**\n",
    "\n",
    "Complete the basic data summary below. Use python, numpy and/or pandas methods to calculate the data summary rather than hard coding the results. For example, the [pandas shape method](http://pandas.pydata.org/pandas-docs/stable/generated/pandas.DataFrame.shape.html) might be useful for calculating some of the summary results. "
   ]
  },
  {
   "cell_type": "markdown",
   "metadata": {},
   "source": [
    "### Provide a Basic Summary of the Data Set Using Python, Numpy and/or Pandas"
   ]
  },
  {
   "cell_type": "code",
   "execution_count": 4,
   "metadata": {
    "collapsed": false
   },
   "outputs": [
    {
     "name": "stdout",
     "output_type": "stream",
     "text": [
      "Number of training examples = 27785\n",
      "Number of testing examples = 17107\n",
      "Number of validation examples =  6947\n",
      "Image data shape = (32, 32)\n",
      "Number of classes = 43\n"
     ]
    }
   ],
   "source": [
    "### Replace each question mark with the appropriate value. \n",
    "### Use python, pandas or numpy methods rather than hard coding the results\n",
    "\n",
    "# TODO: Number of training examples\n",
    "n_train = y_train.shape[0]\n",
    "\n",
    "# TODO: Number of validation examples\n",
    "n_validation = y_valid.shape[0]\n",
    "\n",
    "# TODO: Number of testing examples.\n",
    "n_test = y_test.shape[0]\n",
    "\n",
    "# TODO: What's the shape of an traffic sign image?\n",
    "image_shape = X_train.shape[1:3]\n",
    "\n",
    "# TODO: How many unique classes/labels there are in the dataset.\n",
    "n_classes = 43 # from documentation\n",
    "\n",
    "print(\"Number of training examples =\", n_train)\n",
    "print(\"Number of testing examples =\", n_test)\n",
    "print(\"Number of validation examples = \", n_validation)\n",
    "print(\"Image data shape =\", image_shape)\n",
    "print(\"Number of classes =\", n_classes)"
   ]
  },
  {
   "cell_type": "markdown",
   "metadata": {},
   "source": [
    "### Include an exploratory visualization of the dataset"
   ]
  },
  {
   "cell_type": "markdown",
   "metadata": {},
   "source": [
    "Visualize the German Traffic Signs Dataset using the pickled file(s). This is open ended, suggestions include: plotting traffic sign images, plotting the count of each sign, etc. \n",
    "\n",
    "The [Matplotlib](http://matplotlib.org/) [examples](http://matplotlib.org/examples/index.html) and [gallery](http://matplotlib.org/gallery.html) pages are a great resource for doing visualizations in Python.\n",
    "\n",
    "**NOTE:** It's recommended you start with something simple first. If you wish to do more, come back to it after you've completed the rest of the sections. It can be interesting to look at the distribution of classes in the training, validation and test set. Is the distribution the same? Are there more examples of some classes than others?"
   ]
  },
  {
   "cell_type": "code",
   "execution_count": 5,
   "metadata": {
    "collapsed": false
   },
   "outputs": [
    {
     "data": {
      "image/png": "[encoded data removed]",
      "text/plain": [
       "<matplotlib.figure.Figure at 0x7f8d5e0a8860>"
      ]
     },
     "metadata": {},
     "output_type": "display_data"
    },
    {
     "data": {
      "image/png": "[encoded data removed]",
      "text/plain": [
       "<matplotlib.figure.Figure at 0x7f8d807190f0>"
      ]
     },
     "metadata": {},
     "output_type": "display_data"
    }
   ],
   "source": [
    "### Data exploration visualization code goes here.\n",
    "### Feel free to use as many code cells as needed.\n",
    "import matplotlib.pyplot as plt\n",
    "# Visualizations will be shown in the notebook.\n",
    "%matplotlib inline\n",
    "\n",
    "import random\n",
    "\n",
    "# SHOW num_signs_per_row RANDOM TRAFFIC SIGNS\n",
    "# (subplots dislike 0 index..)\n",
    "plt.figure(figsize=(18,5))\n",
    "num_traffic_signs = 10\n",
    "for column in range(1,num_traffic_signs+1):\n",
    "    index = random.randint(0, len(X_train))\n",
    "    image = X_train[index].squeeze()\n",
    "    plt.subplot(1, num_traffic_signs, column)\n",
    "    plt.title(str(y_train[index]))\n",
    "    plt.imshow(image)\n",
    "    plt.imsave(str(column) +\".png\", image)\n",
    "    \n",
    "# PLOT NORMALIZED HISTOGRAM FOR DISTRIBUTION\n",
    "plt.figure(figsize=(18,10))\n",
    "bins = 43\n",
    "plt.title(\"Normalized distribution of traffic sign classes\")\n",
    "plt.hist([y_train,y_valid,y_test], bins, stacked=False, normed = True, \n",
    "         label=['TRAIN', 'VALIDATION', 'TEST'])\n",
    "plt.xlabel(\"Traffic Sign Type\")\n",
    "plt.legend()\n",
    "plt.show()"
   ]
  },
  {
   "cell_type": "markdown",
   "metadata": {},
   "source": [
    "----\n",
    "\n",
    "## Step 2: Design and Test a Model Architecture\n",
    "\n",
    "Design and implement a deep learning model that learns to recognize traffic signs. Train and test your model on the [German Traffic Sign Dataset](http://benchmark.ini.rub.de/?section=gtsrb&subsection=dataset).\n",
    "\n",
    "The LeNet-5 implementation shown in the [classroom](https://classroom.udacity.com/nanodegrees/nd013/parts/fbf77062-5703-404e-b60c-95b78b2f3f9e/modules/6df7ae49-c61c-4bb2-a23e-6527e69209ec/lessons/601ae704-1035-4287-8b11-e2c2716217ad/concepts/d4aca031-508f-4e0b-b493-e7b706120f81) at the end of the CNN lesson is a solid starting point. You'll have to change the number of classes and possibly the preprocessing, but aside from that it's plug and play! \n",
    "\n",
    "With the LeNet-5 solution from the lecture, you should expect a validation set accuracy of about 0.89. To meet specifications, the validation set accuracy will need to be at least 0.93. It is possible to get an even higher accuracy, but 0.93 is the minimum for a successful project submission. \n",
    "\n",
    "There are various aspects to consider when thinking about this problem:\n",
    "\n",
    "- Neural network architecture (is the network over or underfitting?)\n",
    "- Play around preprocessing techniques (normalization, rgb to grayscale, etc)\n",
    "- Number of examples per label (some have more than others).\n",
    "- Generate fake data.\n",
    "\n",
    "Here is an example of a [published baseline model on this problem](http://yann.lecun.com/exdb/publis/pdf/sermanet-ijcnn-11.pdf). It's not required to be familiar with the approach used in the paper but, it's good practice to try to read papers like these."
   ]
  },
  {
   "cell_type": "markdown",
   "metadata": {},
   "source": [
    "### Pre-process the Data Set (normalization, grayscale, etc.)"
   ]
  },
  {
   "cell_type": "markdown",
   "metadata": {},
   "source": [
    "Minimally, the image data should be normalized so that the data has mean zero and equal variance. For image data, `(pixel - 128)/ 128` is a quick way to approximately normalize the data and can be used in this project. \n",
    "\n",
    "Other pre-processing steps are optional. You can try different techniques to see if it improves performance. \n",
    "\n",
    "Use the code cell (or multiple code cells, if necessary) to implement the first step of your project."
   ]
  },
  {
   "cell_type": "code",
   "execution_count": 6,
   "metadata": {
    "collapsed": false
   },
   "outputs": [
    {
     "name": "stdout",
     "output_type": "stream",
     "text": [
      "[[[ 0.         -0.25       -0.375     ]\n",
      "  [-0.4375     -0.375       0.49609375]]]\n"
     ]
    }
   ],
   "source": [
    "### Preprocess the data here. It is required to normalize the data. Other preprocessing steps could include \n",
    "### converting to grayscale, etc.\n",
    "### Feel free to use as many code cells as needed.\n",
    "\n",
    "def normalize(pixel):\n",
    "    return (pixel-128.0)/256.0  # or /128.0?\n",
    "\n",
    "test_data = np.array([[[128,64,32]]])\n",
    "assert normalize(test_data).all() == np.array([[[0., -0.5, -0.75]]]).all()\n",
    "\n",
    "test_data2 = np.array([[[128,64,32], [ 16,32,255]]])\n",
    "print(normalize(test_data2))"
   ]
  },
  {
   "cell_type": "code",
   "execution_count": 7,
   "metadata": {
    "collapsed": false
   },
   "outputs": [],
   "source": [
    "# normalize image data\n",
    "X_train = normalize(X_train)\n",
    "X_valid = normalize(X_valid)\n",
    "X_test  = normalize(X_test)\n",
    "\n",
    "# shuffle training data\n",
    "from sklearn.utils import shuffle\n",
    "X_train, y_train = shuffle(X_train, y_train)"
   ]
  },
  {
   "cell_type": "markdown",
   "metadata": {},
   "source": [
    "### Check for TensorFlow Version and GPU"
   ]
  },
  {
   "cell_type": "code",
   "execution_count": 8,
   "metadata": {
    "collapsed": false
   },
   "outputs": [
    {
     "name": "stdout",
     "output_type": "stream",
     "text": [
      "Sun Jul  2 19:45:24 2017       \r\n",
      "+-----------------------------------------------------------------------------+\r\n",
      "| NVIDIA-SMI 375.66                 Driver Version: 375.66                    |\r\n",
      "|-------------------------------+----------------------+----------------------+\r\n",
      "| GPU  Name        Persistence-M| Bus-Id        Disp.A | Volatile Uncorr. ECC |\r\n",
      "| Fan  Temp  Perf  Pwr:Usage/Cap|         Memory-Usage | GPU-Util  Compute M. |\r\n",
      "|===============================+======================+======================|\r\n",
      "|   0  GeForce GTX 1070    Off  | 0000:01:00.0      On |                  N/A |\r\n",
      "| N/A   38C    P8    17W /  N/A |    169MiB /  8113MiB |      0%      Default |\r\n",
      "+-------------------------------+----------------------+----------------------+\r\n",
      "                                                                               \r\n",
      "+-----------------------------------------------------------------------------+\r\n",
      "| Processes:                                                       GPU Memory |\r\n",
      "|  GPU       PID  Type  Process name                               Usage      |\r\n",
      "|=============================================================================|\r\n",
      "|    0      8946    G   ...el-token=EF750C59E4D334FD4192D9C91CF75E99    19MiB |\r\n",
      "|    0     10289    G   /usr/lib/xorg/Xorg                             127MiB |\r\n",
      "|    0     11230    G   compiz                                          19MiB |\r\n",
      "+-----------------------------------------------------------------------------+\r\n"
     ]
    }
   ],
   "source": [
    "!nvidia-smi"
   ]
  },
  {
   "cell_type": "code",
   "execution_count": 9,
   "metadata": {
    "collapsed": false
   },
   "outputs": [
    {
     "name": "stdout",
     "output_type": "stream",
     "text": [
      "TensorFlow Version: 1.0.0\n",
      "Default GPU Device: /gpu:0\n"
     ]
    }
   ],
   "source": [
    "from distutils.version import LooseVersion\n",
    "import warnings\n",
    "import tensorflow as tf\n",
    "\n",
    "# Check TensorFlow Version\n",
    "assert LooseVersion(tf.__version__) >= LooseVersion('1.0'), 'Please use TensorFlow version 1.0 or newer.  You are using {}'.format(tf.__version__)\n",
    "print('TensorFlow Version: {}'.format(tf.__version__))\n",
    "\n",
    "# Check for a GPU\n",
    "if not tf.test.gpu_device_name():\n",
    "    warnings.warn('No GPU found. Please use a GPU to train your neural network.')\n",
    "else:\n",
    "    print('Default GPU Device: {}'.format(tf.test.gpu_device_name()))"
   ]
  },
  {
   "cell_type": "markdown",
   "metadata": {},
   "source": [
    "### Features and Labels (for Tensorflow Model)"
   ]
  },
  {
   "cell_type": "code",
   "execution_count": 10,
   "metadata": {
    "collapsed": true
   },
   "outputs": [],
   "source": [
    "# similar as for LeNet for MNIST, but with 3 color channels and 43 output classes\n",
    "x = tf.placeholder(tf.float32, (None, 32, 32, 3))\n",
    "y = tf.placeholder(tf.int32, (None))\n",
    "one_hot_y = tf.one_hot(y, 43)\n",
    "\n",
    "# dropout placeholder\n",
    "keep_prob = tf.placeholder(tf.float32,name=\"keep_prob\")"
   ]
  },
  {
   "cell_type": "markdown",
   "metadata": {},
   "source": [
    "### Selu Rectifier Function (Scaled Exponential Linear Units)\n",
    "\n",
    "Source: https://github.com/bioinf-jku/SNNs/blob/master/SelfNormalizingNetworks_MLP_MNIST.ipynb"
   ]
  },
  {
   "cell_type": "code",
   "execution_count": 11,
   "metadata": {
    "collapsed": true
   },
   "outputs": [],
   "source": [
    "def selu(x):\n",
    "        alpha = 1.6732632423543772848170429916717\n",
    "        scale = 1.0507009873554804934193349852946\n",
    "        return scale*tf.where(x>=0.0, x, alpha*tf.nn.elu(x))"
   ]
  },
  {
   "cell_type": "markdown",
   "metadata": {},
   "source": [
    "### Model Architecture"
   ]
  },
  {
   "cell_type": "code",
   "execution_count": 12,
   "metadata": {
    "collapsed": true
   },
   "outputs": [],
   "source": [
    "### Define your architecture here.\n",
    "### Feel free to use as many code cells as needed.\n",
    "\n",
    "EPOCHS = 20\n",
    "BATCH_SIZE = 256 # low for macbook pro with old GPU, high (>= 128) for newer GPUs\n",
    "\n",
    "from tensorflow.contrib.layers import flatten\n",
    "\n",
    "# Start with LeNet for MNIST, but changing:\n",
    "#  a) Input dimension from 32x32x1 to 32x32x3 - 3 color dimensions\n",
    "#  b) Number of output classes to n_classes = 43\n",
    "\n",
    "NUM_COLOR_DIMENSIONS = 3\n",
    "assert NUM_COLOR_DIMENSIONS == X_train.shape[3]\n",
    "NUM_CLASSES = n_classes\n",
    "\n",
    "def LeNetForTrafficSigns(x,keep_prob):    \n",
    "    # Arguments used for tf.trs_training=True, keep_prob=1.0uncated_normal, randomly defines variables for the weights and biases for each layer\n",
    "    mu = 0\n",
    "    sigma = 0.1\n",
    "    \n",
    "    # SOLUTION: Layer 1: Convolutional. Input = 32x32x3. Output = 28x28x6.\n",
    "    conv1_W = tf.Variable(tf.truncated_normal(shape=(5, 5, NUM_COLOR_DIMENSIONS, 6), mean = mu, stddev = sigma))\n",
    "    conv1_b = tf.Variable(tf.zeros(6))\n",
    "    conv1   = tf.nn.conv2d(x, conv1_W, strides=[1, 1, 1, 1], padding='VALID') + conv1_b\n",
    "    \n",
    "    #bn1 = tf.layers.batch_normalization(conv1,training=is_training)\n",
    "    dropout1 = tf.nn.dropout(conv1, keep_prob)\n",
    "\n",
    "    # SOLUTION: Activation.\n",
    "    #conv1 = tf.nn.relu(dropout1) #conv\n",
    "    conv1 = selu(dropout1)\n",
    "\n",
    "    # SOLUTION: Pooling. Input = 28x28x6. Output = 14x14x6.\n",
    "    conv1 = tf.nn.max_pool(conv1, ksize=[1, 2, 2, 1], strides=[1, 2, 2, 1], padding='VALID')\n",
    "\n",
    "    # SOLUTION: Layer 2: Convolutional. Output = 10x10x16.\n",
    "    conv2_W = tf.Variable(tf.truncated_normal(shape=(5, 5, 6, 16), mean = mu, stddev = sigma))\n",
    "    conv2_b = tf.Variable(tf.zeros(16))\n",
    "    conv2   = tf.nn.conv2d(conv1, conv2_W, strides=[1, 1, 1, 1], padding='VALID') + conv2_b\n",
    "    #bn2 = tf.layers.batch_normalization(conv2,training=True)\n",
    "    #dropout2 = tf.nn.dropout(conv2, dropout_keep_probability)\n",
    "    \n",
    "    # SOLUTION: Activation.\n",
    "    #conv2 = tf.nn.relu(conv2)\n",
    "    conv2 = selu(conv2)\n",
    "    dropout2 = tf.nn.dropout(conv2, keep_prob)\n",
    "    \n",
    "    # SOLUTION: Pooling. Input = 10x10x16. Output = 5x5x16.\n",
    "    conv2 = tf.nn.max_pool(conv2, ksize=[1, 2, 2, 1], strides=[1, 2, 2, 1], padding='VALID')\n",
    "\n",
    "    # SOLUTION: Flatten. Input = 5x5x16. Output = 400.\n",
    "    fc0   = flatten(conv2)\n",
    "    \n",
    "    # SOLUTION: Layer 3: Fully Connected. Input = 400. Output = 120.\n",
    "    fc1_W = tf.Variable(tf.truncated_normal(shape=(400, 120), mean = mu, stddev = sigma)) \n",
    "    fc1_b = tf.Variable(tf.zeros(120))\n",
    "    fc1   = tf.matmul(fc0, fc1_W) + fc1_b\n",
    "    \n",
    "    # SOLUTION: Activation.\n",
    "    #fc1    = tf.nn.relu(fc1)\n",
    "    fc1 = selu(fc1)\n",
    "\n",
    "    # SOLUTION: Layer 4: Fully Connected. Input = 120. Output = 84.\n",
    "    fc2_W  = tf.Variable(tf.truncated_normal(shape=(120, 84), mean = mu, stddev = sigma))\n",
    "    fc2_b  = tf.Variable(tf.zeros(84))\n",
    "    fc2    = tf.matmul(fc1, fc2_W) + fc2_b\n",
    "    \n",
    "    # SOLUTION: Activation.\n",
    "    #fc2    = tf.nn.relu(fc2)\n",
    "    fc2 = selu(fc2)\n",
    "    \n",
    "    #dropout3 = tf.nn.dropout(fc2,dropout_keep_probability)32x3 - 3 color dimensions\n",
    "\n",
    "    fc2b = selu(tf.layers.dense(fc2,84))\n",
    "    fc2c = selu(tf.layers.dense(fc2b,84))\n",
    "\n",
    "    # SOLUTION: Layer 5: Fully Connected. Input = 84. Output = n_classes (43).\n",
    "    fc3_W  = tf.Variable(tf.truncated_normal(shape=(84, NUM_CLASSES), mean = mu, stddev = sigma))\n",
    "    fc3_b  = tf.Variable(tf.zeros(NUM_CLASSES))\n",
    "    logits = tf.matmul(fc2c,fc3_W) + fc3_b # fc2\n",
    "    \n",
    "    return logits\n"
   ]
  },
  {
   "cell_type": "markdown",
   "metadata": {},
   "source": [
    "### Training Pipeline"
   ]
  },
  {
   "cell_type": "code",
   "execution_count": 13,
   "metadata": {
    "collapsed": false
   },
   "outputs": [],
   "source": [
    "rate = 0.002\n",
    "\n",
    "logits = LeNetForTrafficSigns(x, keep_prob=keep_prob)\n",
    "cross_entropy = tf.nn.softmax_cross_entropy_with_logits(labels=one_hot_y, logits=logits)\n",
    "loss_operation = tf.reduce_mean(cross_entropy)\n",
    "optimizer = tf.train.AdamOptimizer(learning_rate = rate)\n",
    "training_operation = optimizer.minimize(loss_operation)\n",
    "\n",
    "# for prediction\n",
    "pred = tf.nn.softmax(logits=logits)"
   ]
  },
  {
   "cell_type": "markdown",
   "metadata": {},
   "source": [
    "### Model Evaluation"
   ]
  },
  {
   "cell_type": "code",
   "execution_count": 14,
   "metadata": {
    "collapsed": false
   },
   "outputs": [],
   "source": [
    "correct_prediction = tf.equal(tf.argmax(logits, 1), tf.argmax(one_hot_y, 1))\n",
    "accuracy_operation = tf.reduce_mean(tf.cast(correct_prediction, tf.float32))\n",
    "saver = tf.train.Saver()\n",
    "\n",
    "def evaluate(X_data, y_data):\n",
    "    num_examples = len(X_data)\n",
    "    total_accuracy = 0            \n",
    "    sess = tf.get_default_session()\n",
    "    for offset in range(0, num_examples, BATCH_SIZE):\n",
    "        batch_x, batch_y = X_data[offset:offset+BATCH_SIZE], y_data[offset:offset+BATCH_SIZE]\n",
    "        #print(type(batch_x),type(batch_y), batch_x.shape, batch_y.shape)\n",
    "        accuracy = sess.run(accuracy_operation, feed_dict={x: batch_x, y: batch_y, keep_prob:1.0})\n",
    "        total_accuracy += (accuracy * len(batch_x))\n",
    "    return total_accuracy / num_examples\n",
    "    \n"
   ]
  },
  {
   "cell_type": "markdown",
   "metadata": {},
   "source": [
    "### Train, Validate and Test the Model"
   ]
  },
  {
   "cell_type": "markdown",
   "metadata": {},
   "source": [
    "A validation set can be used to assess how well the model is performing. A low accuracy on the training and validation\n",
    "sets imply underfitting. A high accuracy on the training set but low accuracy on the validation set implies overfitting."
   ]
  },
  {
   "cell_type": "raw",
   "metadata": {},
   "source": []
  },
  {
   "cell_type": "code",
   "execution_count": 15,
   "metadata": {
    "collapsed": false
   },
   "outputs": [
    {
     "name": "stdout",
     "output_type": "stream",
     "text": [
      "Training...\n",
      "\n",
      "EPOCH 1 ...\n",
      "Validation Accuracy = 0.877, loss = 0.416\n",
      "\n",
      "EPOCH 2 ...\n",
      "Validation Accuracy = 0.936, loss = 0.212\n",
      "\n",
      "EPOCH 3 ...\n",
      "Validation Accuracy = 0.955, loss = 0.148\n",
      "\n",
      "EPOCH 4 ...\n",
      "Validation Accuracy = 0.962, loss = 0.099\n",
      "\n",
      "EPOCH 5 ...\n",
      "Validation Accuracy = 0.968, loss = 0.041\n",
      "\n",
      "EPOCH 6 ...\n",
      "Validation Accuracy = 0.966, loss = 0.015\n",
      "\n",
      "EPOCH 7 ...\n",
      "Validation Accuracy = 0.968, loss = 0.030\n",
      "\n",
      "EPOCH 8 ...\n",
      "Validation Accuracy = 0.974, loss = 0.019\n",
      "\n",
      "EPOCH 9 ...\n",
      "Validation Accuracy = 0.976, loss = 0.017\n",
      "\n",
      "EPOCH 10 ...\n",
      "Validation Accuracy = 0.975, loss = 0.019\n",
      "\n",
      "EPOCH 11 ...\n",
      "Validation Accuracy = 0.980, loss = 0.002\n",
      "\n",
      "EPOCH 12 ...\n",
      "Validation Accuracy = 0.978, loss = 0.017\n",
      "\n",
      "EPOCH 13 ...\n",
      "Validation Accuracy = 0.974, loss = 0.007\n",
      "\n",
      "EPOCH 14 ...\n",
      "Validation Accuracy = 0.978, loss = 0.006\n",
      "\n",
      "EPOCH 15 ...\n",
      "Validation Accuracy = 0.971, loss = 0.010\n",
      "\n",
      "EPOCH 16 ...\n",
      "Validation Accuracy = 0.976, loss = 0.012\n",
      "\n",
      "EPOCH 17 ...\n",
      "Validation Accuracy = 0.982, loss = 0.011\n",
      "\n",
      "EPOCH 18 ...\n",
      "Validation Accuracy = 0.979, loss = 0.004\n",
      "\n",
      "EPOCH 19 ...\n",
      "Validation Accuracy = 0.977, loss = 0.003\n",
      "\n",
      "EPOCH 20 ...\n",
      "Validation Accuracy = 0.976, loss = 0.022\n",
      "\n",
      "Model saved\n",
      "Test Accuracy = 0.975\n",
      "AFTER: Test Accuracy = 0.975\n"
     ]
    }
   ],
   "source": [
    "### Train your model here.\n",
    "### Calculate and report the accuracy on the training and validation set.\n",
    "### Once a final model architecture is selected, \n",
    "### the accuracy on the test set should be calculated and reported as well.\n",
    "### Feel free to use as many code cells as needed.\n",
    "\n",
    "with tf.Session() as sess:\n",
    "    sess.run(tf.global_variables_initializer())\n",
    "    num_examples = len(X_train)\n",
    "   \n",
    "    \n",
    "    print(\"Training...\")\n",
    "    print()\n",
    "    for i in range(EPOCHS):\n",
    "        X_train, y_train = shuffle(X_train, y_train)\n",
    "        for offset in range(0, num_examples, BATCH_SIZE):\n",
    "            end = offset + BATCH_SIZE\n",
    "            batch_x, batch_y = X_train[offset:end], y_train[offset:end]            \n",
    "            sess.run(training_operation, feed_dict={x: batch_x, y: batch_y, keep_prob: 0.9})\n",
    "            loss = sess.run(loss_operation, feed_dict={x: batch_x, y: batch_y, keep_prob: 0.9})\n",
    "            #print(loss)\n",
    "            \n",
    "        validation_accuracy = evaluate(X_valid, y_valid)\n",
    "        print(\"EPOCH {} ...\".format(i+1))\n",
    "        print(\"Validation Accuracy = {:.3f}, loss = {:.3f}\".format(validation_accuracy,loss))\n",
    "        print()\n",
    "        \n",
    "    saver.save(sess, './traffic-light-detector')\n",
    "    print(\"Model saved\")\n",
    "    \n",
    "    test_accuracy = evaluate(X_test, y_test)\n",
    "    print(\"Test Accuracy = {:.3f}\".format(test_accuracy))\n",
    "    \n",
    "    # add logging for tensorboard visualization of model \n",
    "    # accessible with tensorboard --logdir logs/1\n",
    "    file_writer = tf.summary.FileWriter('./logs/1', sess.graph)\n",
    "    \n",
    "    \n",
    "with tf.Session() as sess2:\n",
    "    new_saver = tf.train.import_meta_graph('./traffic-light-detector.meta')\n",
    "    new_saver.restore(sess2, tf.train.latest_checkpoint('./'))\n",
    "    test_accuracy2 = evaluate(X_test, y_test)\n",
    "    print(\"AFTER: Test Accuracy = {:.3f}\".format(test_accuracy2))\n",
    "    \n",
    "    "
   ]
  },
  {
   "cell_type": "markdown",
   "metadata": {},
   "source": [
    "---\n",
    "\n",
    "## Step 3: Test a Model on New Images\n",
    "\n",
    "To give yourself more insight into how your model is working, download at least five pictures of German traffic signs from the web and use your model to predict the traffic sign type.\n",
    "\n",
    "You may find `signnames.csv` useful as it contains mappings from the class id (integer) to the actual sign name."
   ]
  },
  {
   "cell_type": "markdown",
   "metadata": {},
   "source": [
    "### Load and Output the Images"
   ]
  },
  {
   "cell_type": "code",
   "execution_count": 16,
   "metadata": {
    "collapsed": false
   },
   "outputs": [
    {
     "name": "stdout",
     "output_type": "stream",
     "text": [
      "{'8': 'Speed limit (120km/h)', '31': 'Wild animals crossing', '28': 'Children crossing', '11': 'Right-of-way at the next intersection', '15': 'No vehicles', '30': 'Beware of ice/snow', '37': 'Go straight or left', '10': 'No passing for vehicles over 3.5 metric tons', '17': 'No entry', '23': 'Slippery road', '1': 'Speed limit (30km/h)', '7': 'Speed limit (100km/h)', '16': 'Vehicles over 3.5 metric tons prohibited', '38': 'Keep right', '0': 'Speed limit (20km/h)', '5': 'Speed limit (80km/h)', '21': 'Double curve', '13': 'Yield', '36': 'Go straight or right', '42': 'End of no passing by vehicles over 3.5 metric tons', '26': 'Traffic signals', '14': 'Stop', '32': 'End of all speed and passing limits', '6': 'End of speed limit (80km/h)', '24': 'Road narrows on the right', '40': 'Roundabout mandatory', '34': 'Turn left ahead', '25': 'Road work', '9': 'No passing', '3': 'Speed limit (60km/h)', '2': 'Speed limit (50km/h)', '20': 'Dangerous curve to the right', '27': 'Pedestrians', '19': 'Dangerous curve to the left', '33': 'Turn right ahead', '41': 'End of no passing', '18': 'General caution', '22': 'Bumpy road', '29': 'Bicycles crossing', '12': 'Priority road', '4': 'Speed limit (70km/h)', '35': 'Ahead only', '39': 'Keep left'}\n"
     ]
    }
   ],
   "source": [
    "### Load the images and plot them here.\n",
    "### Feel free to use as many code cells as needed.\n",
    "\n",
    "classid_to_sign_mapping = {}\n",
    "lines = open(\"signnames.csv\").readlines()\n",
    "for line in lines[1:]:\n",
    "    (classid, sign) = line.strip().split(\",\")\n",
    "    classid_to_sign_mapping[classid.strip()] = sign.strip()\n",
    "    \n",
    "print(classid_to_sign_mapping)\n"
   ]
  },
  {
   "cell_type": "markdown",
   "metadata": {},
   "source": [
    "### Output Top 5 Softmax Probabilities For Each Image Found on the Web"
   ]
  },
  {
   "cell_type": "markdown",
   "metadata": {},
   "source": [
    "For each of the new images, print out the model's softmax probabilities to show the **certainty** of the model's predictions (limit the output to the top 5 probabilities for each image). [`tf.nn.top_k`](https://www.tensorflow.org/versions/r0.12/api_docs/python/nn.html#top_k) could prove helpful here. \n",
    "\n",
    "The example below demonstrates how tf.nn.top_k can be used to find the top k predictions for each image.\n",
    "\n",
    "`tf.nn.top_k` will return the values and indices (class ids) of the top k predictions. So if k=3, for each sign, it'll return the 3 largest probabilities (out of a possible 43) and the correspoding class ids.\n",
    "\n",
    "Take this numpy array as an example. The values in the array represent predictions. The array contains softmax probabilities for five candidate images with six possible classes. `tk.nn.top_k` is used to choose the three classes with the highest probability:\n",
    "\n",
    "```\n",
    "# (5, 6) array\n",
    "a = np.array([[ 0.24879643,  0.07032244,  0.12641572,  0.34763842,  0.07893497,\n",
    "         0.12789202],\n",
    "       [ 0.28086119,  0.27569815,  0.08594638,  0.0178669 ,  0.18063401,\n",
    "         0.15899337],\n",
    "       [ 0.26076848,  0.23664738,  0.08020603,  0.07001922,  0.1134371 ,\n",
    "         0.23892179],\n",
    "       [ 0.11943333,  0.29198961,  0.02605103,  0.26234032,  0.1351348 ,\n",
    "         0.16505091],\n",
    "       [ 0.09561176,  0.34396535,  0.0643941 ,  0.16240774,  0.24206137,\n",
    "         0.09155967]])\n",
    "```\n",
    "\n",
    "Running it through `sess.run(tf.nn.top_k(tf.constant(a), k=3))` produces:\n",
    "\n",
    "```\n",
    "TopKV2(values=array([[ 0.34763842,  0.24879643,  0.12789202],\n",
    "       [ 0.28086119,  0.27569815,  0.18063401],\n",
    "       [ 0.26076848,  0.23892179,  0.23664738],\n",
    "       [ 0.29198961,  0.26234032,  0.16505091],\n",
    "       [ 0.34396535,  0.24206137,  0.16240774]]), indices=array([[3, 0, 5],\n",
    "       [0, 1, 4],\n",
    "       [0, 5, 1],\n",
    "       [1, 3, 5],\n",
    "       [1, 4, 3]], dtype=int32))\n",
    "```\n",
    "\n",
    "Looking just at the first row we get `[ 0.34763842,  0.24879643,  0.12789202]`, you can confirm these are the 3 largest probabilities in `a`. You'll also notice `[3, 0, 5]` are the corresponding indices."
   ]
  },
  {
   "cell_type": "code",
   "execution_count": 20,
   "metadata": {
    "collapsed": true
   },
   "outputs": [],
   "source": [
    "### Print out the top five softmax probabilities for the predictions on the German traffic sign images found on the web. \n",
    "### Feel free to use as many code cells as needed."
   ]
  },
  {
   "cell_type": "markdown",
   "metadata": {},
   "source": [
    "### Predict the Sign Type for Each Image"
   ]
  },
  {
   "cell_type": "code",
   "execution_count": 17,
   "metadata": {
    "collapsed": true
   },
   "outputs": [],
   "source": [
    "### Run the predictions here and use the model to output the prediction for each image.\n",
    "### Make sure to pre-process the images with the same pre-processing pipeline used earlier.\n",
    "### Feel free to use as many code cells as needed."
   ]
  },
  {
   "cell_type": "code",
   "execution_count": 41,
   "metadata": {
    "collapsed": false
   },
   "outputs": [
    {
     "name": "stdout",
     "output_type": "stream",
     "text": [
      "squareimages/img1.png top 3 predictions ['Priority road', 'Pedestrians', 'Traffic signals']\n",
      " ==> Probabilities (in %) =  [  1.00000000e+02   4.18719781e-09   2.39426777e-09]\n",
      "squareimages/img2.png top 3 predictions ['Speed limit (50km/h)', 'Yield', 'Speed limit (30km/h)']\n",
      " ==> Probabilities (in %) =  [ 86.822474     8.29169601   4.76453677]\n",
      "squareimages/img3.png top 3 predictions ['Turn left ahead', 'Go straight or right', 'Priority road']\n",
      " ==> Probabilities (in %) =  [ 73.82413745  24.50964153   1.3566751 ]\n",
      "squareimages/img4.png top 3 predictions ['Beware of ice/snow', 'Children crossing', 'Right-of-way at the next intersection']\n",
      " ==> Probabilities (in %) =  [  1.00000000e+02   2.84791479e-09   1.08076308e-09]\n",
      "squareimages/img5.png top 3 predictions ['Speed limit (60km/h)', 'Speed limit (80km/h)', 'Bicycles crossing']\n",
      " ==> Probabilities (in %) =  [  9.99926209e+01   7.37294977e-03   5.91947682e-06]\n"
     ]
    },
    {
     "data": {
      "image/png": "[encoded data removed]",
      "text/plain": [
       "<matplotlib.figure.Figure at 0x7f8c30bbbe10>"
      ]
     },
     "metadata": {},
     "output_type": "display_data"
    }
   ],
   "source": [
    "# creating ready images with convert -resize 32x32 command line\n",
    "\n",
    "    # for prediction\n",
    "    \n",
    "from matplotlib.colors import ColorConverter\n",
    "from PIL import Image\n",
    "import glob\n",
    "\n",
    "# https://en.wikipedia.org/wiki/Road_signs_in_Germany\n",
    "\n",
    "# ISSUE IS RGBA handling\n",
    "\n",
    "# CORRECT TEXTS\n",
    "sign_path_to_text = {\"squareimages/img1.png\":\"Priority road\",\n",
    "                      \"squareimages/img2.png\":\"Side road\",\n",
    "                      \"squareimages/img3.png\":\"Adult and child on road\",\n",
    "                      \"squareimages/img4.png\":\"Two way traffic ahead\",\n",
    "                      \"squareimages/img5.png\":\"Speed limit (60km/h)\" \n",
    "                     }\n",
    "\n",
    "sign_predictions = {}\n",
    "\n",
    "plt.figure(figsize=(18,5))\n",
    "num_traffic_signs = 10\n",
    "for column, image_name in enumerate(sorted(glob.glob(\"squareimages/*.png\"))):  #range(1,num_traffic_signs+1):\n",
    "    full_path = image_name\n",
    "    #image = mpimg.imread(full_path)\n",
    "    img = Image.open(full_path)\n",
    "    img = img.resize((32,32))\n",
    "    img = img.convert('RGB') \n",
    "    #img = np.assarray(img.g)\n",
    "    #normalized_image = normalize(np.asarray(img.getdata()))\n",
    "    \n",
    "    #mpimg.imgsave(str(column)+\"rgba.png\", ColorConverter.to_rgba())\n",
    "    plt.subplot(1, num_traffic_signs, column+1)\n",
    "    plt.imshow(img)  #image\n",
    "   \n",
    "    with tf.Session() as sess3:  # for prediction\n",
    "        #tf.reset_default_graph()\n",
    "        #sess.run(tf.global_variables_initializer())\n",
    "        pred2 = tf.nn.top_k(tf.nn.softmax(logits=logits), k=3)\n",
    "        #pred2 = tf.argmax(logits, 1)\n",
    "\n",
    "        image = img.getdata() # convert PIL image to numpy array\n",
    "        image = np.asarray(img) # PIL to numpy\n",
    "        normalized_image = normalize(image)\n",
    "        #print(normalized_image.shape)\n",
    "        #print(image)\n",
    "        batch_size_of_one = np.expand_dims(normalized_image, axis=0)\n",
    "\n",
    "        #print(\"X\",type(batch_size_of_one), batch_size_of_one.shape)\n",
    "        #print(\"Y\",type(y_value), y_value.shape)\n",
    "\n",
    "        new_saver = tf.train.import_meta_graph('./traffic-light-detector.meta')\n",
    "        new_saver.restore(sess3, tf.train.latest_checkpoint('./'))\n",
    "        \n",
    "        # this is just to make sure no errors has snuck in.\n",
    "        #test_accuracy3 = evaluate(X_test, y_test)\n",
    "        #print(\"AFTERAFTER: Test Accuracy = {:.3f}\".format(test_accuracy3))\n",
    "\n",
    "        pred = sess3.run(pred2, feed_dict = {x:batch_size_of_one, keep_prob:1.0})\n",
    "        ind = pred.indices[0].tolist()\n",
    "        probs = pred.values[0].tolist()\n",
    "        #print(probs)\n",
    "        #print(ind)\n",
    "        print(image_name, \"top 3 predictions\", [classid_to_sign_mapping[str(i)] for i in ind])\n",
    "        print(\" ==> Probabilities (in %) = \", 100.0*np.asarray(probs))\n",
    "        #print(\"CORRECT\", sign_path_to_text[image_name])\n",
    "        \n",
    "        sign_predictions[image_name] = classid_to_sign_mapping[str(ind[0])]\n",
    "        \n",
    "        #print(\"PRED\", pred.shape, pred, classid_to_sign_mapping.get(str(np.argmax(pred))))\n",
    "        #print(\"pred\", pred)\n",
    "        #sess.close()"
   ]
  },
  {
   "cell_type": "markdown",
   "metadata": {},
   "source": [
    "### Analyze Performance"
   ]
  },
  {
   "cell_type": "code",
   "execution_count": 42,
   "metadata": {
    "collapsed": false
   },
   "outputs": [
    {
     "name": "stdout",
     "output_type": "stream",
     "text": [
      "Prediction Performance:  40.0 %\n"
     ]
    }
   ],
   "source": [
    "### Calculate the accuracy for these 5 new  images. \n",
    "### For example, if the model predicted 1 out of 5 signs correctly, it's 20% accurate on these new images.\n",
    "\n",
    "total_predictions = len(sign_path_to_text)\n",
    "\n",
    "correct_predictions = 0\n",
    "\n",
    "for filename in sign_path_to_text:\n",
    "    #print(sign_path_to_text[filename], sign_predictions[filename])\n",
    "    if sign_path_to_text[filename] == sign_predictions[filename]:\n",
    "        correct_predictions += 1.0\n",
    "        \n",
    "print(\"Prediction Performance: \", 100.0*(correct_predictions/total_predictions), \"%\")\n",
    "\n"
   ]
  },
  {
   "cell_type": "markdown",
   "metadata": {},
   "source": [
    "### Project Writeup\n",
    "\n",
    "Once you have completed the code implementation, document your results in a project writeup using this [template](https://github.com/udacity/CarND-Traffic-Sign-Classifier-Project/blob/master/writeup_template.md) as a guide. The writeup can be in a markdown or pdf file. "
   ]
  },
  {
   "cell_type": "markdown",
   "metadata": {},
   "source": [
    "> **Note**: Once you have completed all of the code implementations and successfully answered each question above, you may finalize your work by exporting the iPython Notebook as an HTML document. You can do this by using the menu above and navigating to  \\n\",\n",
    "    \"**File -> Download as -> HTML (.html)**. Include the finished document along with this notebook as your submission."
   ]
  },
  {
   "cell_type": "markdown",
   "metadata": {},
   "source": [
    "---\n",
    "\n",
    "## Step 4 (Optional): Visualize the Neural Network's State with Test Images\n",
    "\n",
    " This Section is not required to complete but acts as an additional excersise for understaning the output of a neural network's weights. While neural networks can be a great learning device they are often referred to as a black box. We can understand what the weights of a neural network look like better by plotting their feature maps. After successfully training your neural network you can see what it's feature maps look like by plotting the output of the network's weight layers in response to a test stimuli image. From these plotted feature maps, it's possible to see what characteristics of an image the network finds interesting. For a sign, maybe the inner network feature maps react with high activation to the sign's boundary outline or to the contrast in the sign's painted symbol.\n",
    "\n",
    " Provided for you below is the function code that allows you to get the visualization output of any tensorflow weight layer you want. The inputs to the function should be a stimuli image, one used during training or a new one you provided, and then the tensorflow variable name that represents the layer's state during the training process, for instance if you wanted to see what the [LeNet lab's](https://classroom.udacity.com/nanodegrees/nd013/parts/fbf77062-5703-404e-b60c-95b78b2f3f9e/modules/6df7ae49-c61c-4bb2-a23e-6527e69209ec/lessons/601ae704-1035-4287-8b11-e2c2716217ad/concepts/d4aca031-508f-4e0b-b493-e7b706120f81) feature maps looked like for it's second convolutional layer you could enter conv2 as the tf_activation variable.\n",
    "\n",
    "For an example of what feature map outputs look like, check out NVIDIA's results in their paper [End-to-End Deep Learning for Self-Driving Cars](https://devblogs.nvidia.com/parallelforall/deep-learning-self-driving-cars/) in the section Visualization of internal CNN State. NVIDIA was able to show that their network's inner weights had high activations to road boundary lines by comparing feature maps from an image with a clear path to one without. Try experimenting with a similar test to show that your trained network's weights are looking for interesting features, whether it's looking at differences in feature maps from images with or without a sign, or even what feature maps look like in a trained network vs a completely untrained one on the same sign image.\n",
    "\n",
    "<figure>\n",
    " <img src=\"visualize_cnn.png\" width=\"380\" alt=\"Combined Image\" />\n",
    " <figcaption>\n",
    " <p></p> \n",
    " <p style=\"text-align: center;\"> Your output should look something like this (above)</p> \n",
    " </figcaption>\n",
    "</figure>\n",
    " <p></p> \n"
   ]
  },
  {
   "cell_type": "code",
   "execution_count": 21,
   "metadata": {
    "collapsed": true
   },
   "outputs": [],
   "source": [
    "### Visualize your network's feature maps here.\n",
    "### Feel free to use as many code cells as needed.\n",
    "\n",
    "# image_input: the test image being fed into the network to produce the feature maps\n",
    "# tf_activation: should be a tf variable name used during your training procedure that represents the calculated state of a specific weight layer\n",
    "# activation_min/max: can be used to view the activation contrast in more detail, by default matplot sets min and max to the actual min and max values of the output\n",
    "# plt_num: used to plot out multiple different weight feature map sets on the same block, just extend the plt number for each new feature map entry\n",
    "\n",
    "def outputFeatureMap(image_input, tf_activation, activation_min=-1, activation_max=-1 ,plt_num=1):\n",
    "    # Here make sure to preprocess your image_input in a way your network expects\n",
    "    # with size, normalization, ect if needed\n",
    "    # image_input =\n",
    "    # Note: x should be the same name as your network's tensorflow data placeholder variable\n",
    "    # If you get an error tf_activation is not defined it may be having trouble accessing the variable from inside a function\n",
    "    activation = tf_activation.eval(session=sess,feed_dict={x : image_input})\n",
    "    featuremaps = activation.shape[3]\n",
    "    plt.figure(plt_num, figsize=(15,15))\n",
    "    for featuremap in range(featuremaps):\n",
    "        plt.subplot(6,8, featuremap+1) # sets the number of feature maps to show on each row and column\n",
    "        plt.title('FeatureMap ' + str(featuremap)) # displays the feature map number\n",
    "        if activation_min != -1 & activation_max != -1:\n",
    "            plt.imshow(activation[0,:,:, featuremap], interpolation=\"nearest\", vmin =activation_min, vmax=activation_max, cmap=\"gray\")\n",
    "        elif activation_max != -1:\n",
    "            plt.imshow(activation[0,:,:, featuremap], interpolation=\"nearest\", vmax=activation_max, cmap=\"gray\")\n",
    "        elif activation_min !=-1:\n",
    "            plt.imshow(activation[0,:,:, featuremap], interpolation=\"nearest\", vmin=activation_min, cmap=\"gray\")\n",
    "        else:\n",
    "            plt.imshow(activation[0,:,:, featuremap], interpolation=\"nearest\", cmap=\"gray\")"
   ]
  }
 ],
 "metadata": {
  "anaconda-cloud": {},
  "kernelspec": {
   "display_name": "Python 3",
   "language": "python",
   "name": "python3"
  },
  "language_info": {
   "codemirror_mode": {
    "name": "ipython",
    "version": 3
   },
   "file_extension": ".py",
   "mimetype": "text/x-python",
   "name": "python",
   "nbconvert_exporter": "python",
   "pygments_lexer": "ipython3",
   "version": "3.5.3"
  }
 },
 "nbformat": 4,
 "nbformat_minor": 1
}
