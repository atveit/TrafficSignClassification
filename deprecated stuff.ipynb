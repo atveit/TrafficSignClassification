{
 "cells": [
  {
   "cell_type": "code",
   "execution_count": null,
   "metadata": {
    "collapsed": true
   },
   "outputs": [],
   "source": [
    "# deprecated stuff\n",
    "\n",
    "### Display raw images downloaded from web\n",
    "\n",
    "# VERY GOOD: http://www.scipy-lectures.org/advanced/image_processing/\n",
    "# https://stackoverflow.com/questions/13797110/scale-imread-matrix-in-python\n",
    "\n",
    "import matplotlib.image as mpimg\n",
    "import os\n",
    "from PIL import Image\n",
    "\n",
    "figure_number = 1\n",
    "for image_name in sorted(os.listdir(\"raw_5_images/\")):\n",
    "    #print(image_name)\n",
    "    if not \".png\" in image_name:\n",
    "        continue\n",
    "    full_path = \"raw_5_images/\" + image_name\n",
    "    img = Image.open(full_path)\n",
    "    img = img.resize((32,32))\n",
    "    image = mpimg.imread(full_path)\n",
    "    #print(full_path)\n",
    "    plt.figure(figure_number)\n",
    "    plt.imshow(image)\n",
    "    figure_number += 1"
   ]
  },
  {
   "cell_type": "code",
   "execution_count": null,
   "metadata": {
    "collapsed": true
   },
   "outputs": [],
   "source": [
    "# preprocessing of images\n",
    "# 1. make them square images by adding padding in the lowest dimension\n",
    "#  using recipe from https://askubuntu.com/questions/594964/is-there-a-way-to-fill-an-image-with-its-background-color-to-square-size\n",
    "#  convert $pic -trim $pic ; width=$(identify -format \"%w\" $pic); height=$(identify -format \"%h\" $pic); new_dim=$((width > height ? width+10 : height+10)); \n",
    "#  convert $pic -gravity center -extent \"${new_dim}x${new_dim}\" $pic\n",
    "\n",
    "from PIL import Image\n",
    "\n",
    "# SHOW num_signs_per_row RANDOM TRAFFIC SIGNS\n",
    "# (subplots dislike 0 index..)\n",
    "#plt.figure(figsize=(18,5))\n",
    "#num_traffic_signs = 10\n",
    "#for column in range(1,num_traffic_signs+1):\n",
    "#    index = random.randint(0, len(X_train))\n",
    "#    image = X_train[index].squeeze()\n",
    "#    plt.subplot(1, num_traffic_signs, column)\n",
    "#    plt.title(str(y_train[index]))\n",
    "#    plt.imshow(image)\n",
    "#    plt.imsave(str(column) +\".png\", image)\n",
    "\n",
    "plt.figure(figsize=(18,5))\n",
    "num_traffic_signs=6\n",
    "\n",
    "figure_number = 1\n",
    "for column, image_name in enumerate(sorted(os.listdir(\"processed_5_images/\"))):\n",
    "    #print(image_name)\n",
    "    if not \".png\" in image_name:\n",
    "        continue\n",
    "    full_path = \"processed_5_images/\" + image_name\n",
    "    image = mpimg.imread(full_path)\n",
    "    #print(full_path)\n",
    "    img = Image.open(full_path)\n",
    "    img = img.resize((32,32))\n",
    "    #im = image.resize(32,32)\n",
    "    #plt.figure(figure_number)\n",
    "    plt.subplot(1, num_traffic_signs, column+1)\n",
    "    plt.imshow(img) #image\n",
    "    figure_number += 1\n",
    "        \n",
    "\n",
    "\n",
    "# 2. downsize them to 32x32"
   ]
  }
 ],
 "metadata": {
  "kernelspec": {
   "display_name": "Python 3",
   "language": "python",
   "name": "python3"
  },
  "language_info": {
   "codemirror_mode": {
    "name": "ipython",
    "version": 3
   },
   "file_extension": ".py",
   "mimetype": "text/x-python",
   "name": "python",
   "nbconvert_exporter": "python",
   "pygments_lexer": "ipython3",
   "version": "3.5.3"
  }
 },
 "nbformat": 4,
 "nbformat_minor": 2
}
